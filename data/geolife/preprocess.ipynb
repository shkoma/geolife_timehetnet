{
 "cells": [
  {
   "cell_type": "code",
   "execution_count": 13,
   "metadata": {},
   "outputs": [
    {
     "data": {
      "text/plain": [
       "(tensor([93., 99., 95.]), tensor([185.]))"
      ]
     },
     "execution_count": 13,
     "metadata": {},
     "output_type": "execute_result"
    }
   ],
   "source": [
    "# Dataset 은 샘플과 정답(label)을 저장하고, \n",
    "# DataLoader 는 Dataset 을 샘플에 쉽게 접근할 수 있도록 순회 가능한 객체(iterable)로 감쌉니다.\n",
    "# https://wikidocs.net/156998\n",
    "\n",
    "import torch\n",
    "from torch.utils.data import Dataset\n",
    "\n",
    "\n",
    "class CustomDataset(Dataset):\n",
    "    def __init__(self):\n",
    "    # 생성자, 데이터를 전처리하는 부분\n",
    "        self.x_data = [[73, 80, 75],\n",
    "                       [93, 99, 95]]\n",
    "        self.y_data = [[152], \n",
    "                       [185]]\n",
    "    \n",
    "    def __len__(self):\n",
    "    # 데이터셋의 총 길이를 반환하는 부분\n",
    "        return len(self.x_data)\n",
    "    \n",
    "    def __getitem__(self, idx):\n",
    "    # idx 에 해당하는 입출력 데이터를 반환한다.\n",
    "        x = torch.FloatTensor(self.x_data[idx])\n",
    "        y = torch.FloatTensor(self.y_data[idx])\n",
    "        return x, y\n",
    "    \n",
    "customData = CustomDataset()\n",
    "customData.__getitem__(1)"
   ]
  },
  {
   "cell_type": "code",
   "execution_count": 25,
   "metadata": {},
   "outputs": [
    {
     "data": {
      "text/html": [
       "<div>\n",
       "<style scoped>\n",
       "    .dataframe tbody tr th:only-of-type {\n",
       "        vertical-align: middle;\n",
       "    }\n",
       "\n",
       "    .dataframe tbody tr th {\n",
       "        vertical-align: top;\n",
       "    }\n",
       "\n",
       "    .dataframe thead th {\n",
       "        text-align: right;\n",
       "    }\n",
       "</style>\n",
       "<table border=\"1\" class=\"dataframe\">\n",
       "  <thead>\n",
       "    <tr style=\"text-align: right;\">\n",
       "      <th></th>\n",
       "      <th>latitude</th>\n",
       "      <th>longitude</th>\n",
       "      <th>what</th>\n",
       "      <th>altitude</th>\n",
       "      <th>days</th>\n",
       "      <th>date</th>\n",
       "      <th>time</th>\n",
       "    </tr>\n",
       "  </thead>\n",
       "  <tbody>\n",
       "    <tr>\n",
       "      <th>0</th>\n",
       "      <td>39.984702</td>\n",
       "      <td>116.318417</td>\n",
       "      <td>0</td>\n",
       "      <td>492</td>\n",
       "      <td>39744.120185</td>\n",
       "      <td>2008-10-23</td>\n",
       "      <td>02:53:04</td>\n",
       "    </tr>\n",
       "    <tr>\n",
       "      <th>1</th>\n",
       "      <td>39.984683</td>\n",
       "      <td>116.318450</td>\n",
       "      <td>0</td>\n",
       "      <td>492</td>\n",
       "      <td>39744.120255</td>\n",
       "      <td>2008-10-23</td>\n",
       "      <td>02:53:10</td>\n",
       "    </tr>\n",
       "    <tr>\n",
       "      <th>2</th>\n",
       "      <td>39.984686</td>\n",
       "      <td>116.318417</td>\n",
       "      <td>0</td>\n",
       "      <td>492</td>\n",
       "      <td>39744.120313</td>\n",
       "      <td>2008-10-23</td>\n",
       "      <td>02:53:15</td>\n",
       "    </tr>\n",
       "    <tr>\n",
       "      <th>3</th>\n",
       "      <td>39.984688</td>\n",
       "      <td>116.318385</td>\n",
       "      <td>0</td>\n",
       "      <td>492</td>\n",
       "      <td>39744.120370</td>\n",
       "      <td>2008-10-23</td>\n",
       "      <td>02:53:20</td>\n",
       "    </tr>\n",
       "    <tr>\n",
       "      <th>4</th>\n",
       "      <td>39.984655</td>\n",
       "      <td>116.318263</td>\n",
       "      <td>0</td>\n",
       "      <td>492</td>\n",
       "      <td>39744.120428</td>\n",
       "      <td>2008-10-23</td>\n",
       "      <td>02:53:25</td>\n",
       "    </tr>\n",
       "  </tbody>\n",
       "</table>\n",
       "</div>"
      ],
      "text/plain": [
       "    latitude   longitude  what  altitude          days        date      time\n",
       "0  39.984702  116.318417     0       492  39744.120185  2008-10-23  02:53:04\n",
       "1  39.984683  116.318450     0       492  39744.120255  2008-10-23  02:53:10\n",
       "2  39.984686  116.318417     0       492  39744.120313  2008-10-23  02:53:15\n",
       "3  39.984688  116.318385     0       492  39744.120370  2008-10-23  02:53:20\n",
       "4  39.984655  116.318263     0       492  39744.120428  2008-10-23  02:53:25"
      ]
     },
     "execution_count": 25,
     "metadata": {},
     "output_type": "execute_result"
    }
   ],
   "source": [
    "import os\n",
    "import pandas as pd\n",
    "\n",
    "data_dir = 'Data/'\n",
    "csv_dir = 'csv/'\n",
    "csv_extension = '.csv'\n",
    "user_path_list = os.listdir(data_dir)\n",
    "\n",
    "\n",
    "csv_path = os.path.join(data_dir, user_path_list[0], csv_dir)\n",
    "user_file = csv_path + user_path_list[0] + '.csv'\n",
    "df = pd.read_csv(user_file)\n",
    "df.head()\n",
    "\n"
   ]
  },
  {
   "cell_type": "code",
   "execution_count": 130,
   "metadata": {},
   "outputs": [
    {
     "name": "stdout",
     "output_type": "stream",
     "text": [
      "train_list: 18\n"
     ]
    }
   ],
   "source": [
    "import os\n",
    "import pandas as pd\n",
    "import numpy as np\n",
    "import random\n",
    "from torch.utils.data import Dataset\n",
    "\n",
    "# Data folder 중 숫자가 안되는 User folder는 삭제하고\n",
    "# 남은 User data에서 train-test 폴더로 나눈 후\n",
    "# train_set(dataset), test_set(dataset) 으로 진행 필요\n",
    "\n",
    "class GeoLifeDataSet(Dataset):\n",
    "    def __init__(self, data_dir, user_list, samples_s, samples_q, length, y_timestep):\n",
    "        self.data_dir   = data_dir\n",
    "        self.csv_dir    = 'csv/'\n",
    "        self.user_list  = user_list\n",
    "        # user_list: all user\n",
    "        self.samples_s  = samples_s\n",
    "        # samples_s: the number of support set\n",
    "        self.samples_q  = samples_q\n",
    "        # samples_q: the number of query set\n",
    "        self.length     = length \n",
    "        # length: the length of mini batch of a user\n",
    "        self.y_timestep = y_timestep\n",
    "        # y_time_step: the next time step to be predicted\n",
    "        #              it must be less than length\n",
    "    \n",
    "    def sampleTime(self, dataset):\n",
    "        cur_ds = dataset.copy()\n",
    "        minibatch = []\n",
    "        \n",
    "        max_len = len(cur_ds)\n",
    "        ###############################################\n",
    "        # MAke sure samples from query and support \n",
    "        # do not intersect\n",
    "        ##############################################\n",
    "        # total_data_slice -> lenght 만큼 나눴을 때 총 slice 갯수\n",
    "        total_data_slice = list(range(int(max_len/self.length)))\n",
    "        total_samps = self.samples_q + self.samples_s\n",
    "        \n",
    "        slice_point = int(len(total_data_slice)*(self.samples_s/total_samps))\n",
    "        # print(f\"slice_point: {slice_point}\")\n",
    "\n",
    "        s_s_list = total_data_slice[:slice_point]\n",
    "        q_s_list = total_data_slice[slice_point:]\n",
    "\n",
    "        replace = False\n",
    "        if total_samps > len(total_data_slice):\n",
    "            replace = True\n",
    "\n",
    "        s_s_list = np.random.choice(s_s_list, size=self.samples_s, replace=replace)\n",
    "        q_s_list = np.random.choice(q_s_list, size=self.samples_q, replace=replace)\n",
    "        \n",
    "        # print(f\"s_list:{s_s_list}\")\n",
    "        # print(f\"q_list:{q_s_list}\")\n",
    "        choice_list = np.concatenate([s_s_list, q_s_list])\n",
    "        # #################################################\n",
    "        # print(f\"choice_list: {choice_list}\")\n",
    "        \n",
    "        for idx in choice_list:\n",
    "            start_idx = idx * self.length\n",
    "            if max_len - self.length >= 0:\n",
    "                cur_sample = cur_ds.iloc[start_idx:(start_idx + self.length), :]\n",
    "                minibatch.append(cur_sample)\n",
    "            else:\n",
    "                fill_quota  = np.abs(self.length - max_len)\n",
    "                zeros_r     = np.zeros([fill_quota, cur_ds.shape[1]])\n",
    "                cur_sample  = cur_ds[:, :]\n",
    "                cur_sample  = np.concatenate([zeros_r, cur_sample], axis = 0)\n",
    "                minibatch.append(cur_sample)\n",
    "        return np.array(minibatch)\n",
    "        \n",
    "    def __getitem__(self, index):\n",
    "        csv_path = os.path.join(self.data_dir, self.user_list[index], self.csv_dir)\n",
    "        user_file = csv_path + self.user_list[index] + '.csv'\n",
    "        df = pd.read_csv(user_file)\n",
    "        df = df[['days','latitude', 'longitude']]\n",
    "\n",
    "        samples = self.sampleTime(df)\n",
    "        # print(f\"mini_batch: {samples.shape}\")\n",
    "        # mini_batch: (5, 10, 3)\n",
    "        \n",
    "        sup_x = np.array(samples[:self.samples_s, :-self.y_timestep, :])\n",
    "        sup_y = np.array(samples[:self.samples_s, -self.y_timestep:, -2:])\n",
    "        que_x = np.array(samples[self.samples_s:, :-self.y_timestep, :])\n",
    "        que_y = np.array(samples[self.samples_s:, -self.y_timestep:, -2:])\n",
    "\n",
    "        return (que_x, sup_x, sup_y), que_y\n",
    "    \n",
    "    def __len__(self):\n",
    "        # batch를 구성할 수 있는 총 수\n",
    "        # 이 수에서 batch를 조정할 수 있다.\n",
    "        # 몇 명의 user 로 나눠서 할 지\n",
    "        return len(self.user_list)\n",
    "\n",
    "user_list = os.listdir(data_dir)\n",
    "random.shuffle(user_list)\n",
    "train_size = 0.1\n",
    "train_list = user_list[:(int)(len(user_list)*train_size)]\n",
    "print(f\"train_list: {len(train_list)}\")\n",
    "\n",
    "# dataset = GeoLifeDataSet(\"Data/\", [0, 1, 2, 3], 5, 2, 100, 10)\n",
    "# dataset.__getitem__(0)"
   ]
  },
  {
   "cell_type": "code",
   "execution_count": 145,
   "metadata": {},
   "outputs": [
    {
     "name": "stdout",
     "output_type": "stream",
     "text": [
      "train_list: 18\n",
      "support_x: torch.Size([1, 3, 90, 3])\n",
      "support_y: torch.Size([1, 5, 90, 3])\n",
      "query_x: torch.Size([1, 5, 10, 2])\n",
      "query_y: torch.Size([1, 3, 10, 2])\n"
     ]
    }
   ],
   "source": [
    "from torch.utils.data import DataLoader\n",
    "\n",
    "data_dir = \"Data/\"#\"data/geolife/Data/\"\n",
    "sample_s = 5\n",
    "sample_q = 3\n",
    "length = 100\n",
    "y_timestep = 10\n",
    "\n",
    "user_list = os.listdir(data_dir)\n",
    "random.shuffle(user_list)\n",
    "train_size = 0.1\n",
    "train_list = user_list[:(int)(len(user_list)*train_size)]\n",
    "test_list  = user_list[(int)(len(user_list)*train_size):]\n",
    "print(f\"train_list: {len(train_list)}\")\n",
    "\n",
    "training_data = GeoLifeDataSet(data_dir, train_list, sample_s, sample_q, length, y_timestep)\n",
    "test_data = GeoLifeDataSet(data_dir, train_list, sample_s, sample_q, length, y_timestep)\n",
    "\n",
    "train_dataloader = DataLoader(training_data, batch_size=1, shuffle=False)\n",
    "test_dataloader  = DataLoader(test_data, batch_size=1, shuffle=False)\n",
    "\n",
    "train_x, train_y = next(iter(train_dataloader))\n",
    "print(f\"support_x: {train_x[0].shape}\")\n",
    "print(f\"support_y: {train_x[1].shape}\")\n",
    "print(f\"query_x: {train_x[2].shape}\")\n",
    "print(f\"query_y: {train_y.shape}\")"
   ]
  },
  {
   "cell_type": "code",
   "execution_count": 1,
   "metadata": {},
   "outputs": [
    {
     "ename": "NameError",
     "evalue": "name 'shap' is not defined",
     "output_type": "error",
     "traceback": [
      "\u001b[0;31m---------------------------------------------------------------------------\u001b[0m",
      "\u001b[0;31mNameError\u001b[0m                                 Traceback (most recent call last)",
      "Cell \u001b[0;32mIn[1], line 1\u001b[0m\n\u001b[0;32m----> 1\u001b[0m shap\n",
      "\u001b[0;31mNameError\u001b[0m: name 'shap' is not defined"
     ]
    }
   ],
   "source": []
  },
  {
   "cell_type": "code",
   "execution_count": 4,
   "metadata": {},
   "outputs": [
    {
     "data": {
      "text/plain": [
       "[1, 2, 3, -1, 2]"
      ]
     },
     "execution_count": 4,
     "metadata": {},
     "output_type": "execute_result"
    }
   ],
   "source": [
    "shape = [1, 2, 3, 4, 5]\n",
    "shape[:-2] + [-1] + [2]"
   ]
  },
  {
   "cell_type": "code",
   "execution_count": null,
   "metadata": {},
   "outputs": [],
   "source": [
    "        # input is TASKS x SAMPLES x FEATURES x TIME x Latent vector\n",
    "        shape = torch._shape_as_tensor(inp)\n",
    "        # (3, 20, 6, 100, 1)\n",
    "        x = torch.reshape(inp, [-1, shape[-2], shape[-1]])\n",
    "        # (300, 100, 1)\n",
    "        x, f = self.gru(x)\n",
    "        # x:(300, 100, 32)\n",
    "        # f:(3, 100, 32)\n",
    "        \n",
    "        if self.final:\n",
    "            new_shape = shape[:-2].tolist() + [-1]\n",
    "            out = torch.reshape(f, new_shape)\n",
    "        else:\n",
    "            new_shape = shape[:-1].tolist() + [-1]\n",
    "            # (3, 20, 6, 100, -1)\n",
    "            out = torch.reshape(x, new_shape)\n",
    "            # (3, 20, 6, 100, 32)\n",
    "        return out"
   ]
  },
  {
   "cell_type": "code",
   "execution_count": null,
   "metadata": {},
   "outputs": [],
   "source": [
    "# DataLoader\n",
    "from torch.utils.data import DataLoader\n",
    "\n",
    "dataloader = DataLoader(\n",
    "    dataset,\n",
    "    batch_size = 2,\n",
    "    shuffle = True,\n",
    ")"
   ]
  },
  {
   "cell_type": "code",
   "execution_count": 6,
   "metadata": {},
   "outputs": [
    {
     "data": {
      "text/html": [
       "<div>\n",
       "<style scoped>\n",
       "    .dataframe tbody tr th:only-of-type {\n",
       "        vertical-align: middle;\n",
       "    }\n",
       "\n",
       "    .dataframe tbody tr th {\n",
       "        vertical-align: top;\n",
       "    }\n",
       "\n",
       "    .dataframe thead th {\n",
       "        text-align: right;\n",
       "    }\n",
       "</style>\n",
       "<table border=\"1\" class=\"dataframe\">\n",
       "  <thead>\n",
       "    <tr style=\"text-align: right;\">\n",
       "      <th></th>\n",
       "      <th>latitude</th>\n",
       "      <th>longitude</th>\n",
       "      <th>what</th>\n",
       "      <th>altitude</th>\n",
       "      <th>days</th>\n",
       "      <th>date</th>\n",
       "      <th>time</th>\n",
       "    </tr>\n",
       "  </thead>\n",
       "  <tbody>\n",
       "    <tr>\n",
       "      <th>0</th>\n",
       "      <td>39.984702</td>\n",
       "      <td>116.318417</td>\n",
       "      <td>0</td>\n",
       "      <td>492</td>\n",
       "      <td>39744.120185</td>\n",
       "      <td>2008-10-23</td>\n",
       "      <td>02:53:04</td>\n",
       "    </tr>\n",
       "  </tbody>\n",
       "</table>\n",
       "</div>"
      ],
      "text/plain": [
       "    latitude   longitude  what  altitude          days        date      time\n",
       "0  39.984702  116.318417     0       492  39744.120185  2008-10-23  02:53:04"
      ]
     },
     "execution_count": 6,
     "metadata": {},
     "output_type": "execute_result"
    }
   ],
   "source": [
    "import pandas as pd\n",
    "import numpy as np\n",
    "import torch\n",
    "\n",
    "from sklearn.cluster import KMeans\n",
    "\n",
    "df = pd.read_csv('Data/000/csv/000.csv')\n",
    "df.head(1)"
   ]
  },
  {
   "cell_type": "code",
   "execution_count": 4,
   "metadata": {},
   "outputs": [
    {
     "data": {
      "text/html": [
       "<div>\n",
       "<style scoped>\n",
       "    .dataframe tbody tr th:only-of-type {\n",
       "        vertical-align: middle;\n",
       "    }\n",
       "\n",
       "    .dataframe tbody tr th {\n",
       "        vertical-align: top;\n",
       "    }\n",
       "\n",
       "    .dataframe thead th {\n",
       "        text-align: right;\n",
       "    }\n",
       "</style>\n",
       "<table border=\"1\" class=\"dataframe\">\n",
       "  <thead>\n",
       "    <tr style=\"text-align: right;\">\n",
       "      <th></th>\n",
       "      <th>latitude</th>\n",
       "      <th>longitude</th>\n",
       "      <th>what</th>\n",
       "      <th>altitude</th>\n",
       "      <th>days</th>\n",
       "      <th>date</th>\n",
       "      <th>time</th>\n",
       "    </tr>\n",
       "  </thead>\n",
       "  <tbody>\n",
       "    <tr>\n",
       "      <th>0</th>\n",
       "      <td>39.984094</td>\n",
       "      <td>116.319236</td>\n",
       "      <td>0</td>\n",
       "      <td>492</td>\n",
       "      <td>39744.245197</td>\n",
       "      <td>2008-10-23</td>\n",
       "      <td>05:53:05</td>\n",
       "    </tr>\n",
       "    <tr>\n",
       "      <th>1</th>\n",
       "      <td>39.984198</td>\n",
       "      <td>116.319322</td>\n",
       "      <td>0</td>\n",
       "      <td>492</td>\n",
       "      <td>39744.245208</td>\n",
       "      <td>2008-10-23</td>\n",
       "      <td>05:53:06</td>\n",
       "    </tr>\n",
       "    <tr>\n",
       "      <th>2</th>\n",
       "      <td>39.984224</td>\n",
       "      <td>116.319402</td>\n",
       "      <td>0</td>\n",
       "      <td>492</td>\n",
       "      <td>39744.245266</td>\n",
       "      <td>2008-10-23</td>\n",
       "      <td>05:53:11</td>\n",
       "    </tr>\n",
       "    <tr>\n",
       "      <th>3</th>\n",
       "      <td>39.984211</td>\n",
       "      <td>116.319389</td>\n",
       "      <td>0</td>\n",
       "      <td>492</td>\n",
       "      <td>39744.245324</td>\n",
       "      <td>2008-10-23</td>\n",
       "      <td>05:53:16</td>\n",
       "    </tr>\n",
       "    <tr>\n",
       "      <th>4</th>\n",
       "      <td>39.984217</td>\n",
       "      <td>116.319422</td>\n",
       "      <td>0</td>\n",
       "      <td>491</td>\n",
       "      <td>39744.245382</td>\n",
       "      <td>2008-10-23</td>\n",
       "      <td>05:53:21</td>\n",
       "    </tr>\n",
       "  </tbody>\n",
       "</table>\n",
       "</div>"
      ],
      "text/plain": [
       "    latitude   longitude  what  altitude          days        date      time\n",
       "0  39.984094  116.319236     0       492  39744.245197  2008-10-23  05:53:05\n",
       "1  39.984198  116.319322     0       492  39744.245208  2008-10-23  05:53:06\n",
       "2  39.984224  116.319402     0       492  39744.245266  2008-10-23  05:53:11\n",
       "3  39.984211  116.319389     0       492  39744.245324  2008-10-23  05:53:16\n",
       "4  39.984217  116.319422     0       491  39744.245382  2008-10-23  05:53:21"
      ]
     },
     "execution_count": 4,
     "metadata": {},
     "output_type": "execute_result"
    }
   ],
   "source": [
    "import pandas as pd\n",
    "import numpy as np\n",
    "import torch\n",
    "\n",
    "from sklearn.cluster import KMeans\n",
    "\n",
    "df = pd.read_csv('Data/001/csv/001.csv')\n",
    "df.head(5)"
   ]
  },
  {
   "cell_type": "code",
   "execution_count": 1,
   "metadata": {},
   "outputs": [
    {
     "name": "stderr",
     "output_type": "stream",
     "text": [
      "/home/shkoma/anaconda3/lib/python3.11/site-packages/sklearn/cluster/_kmeans.py:1412: FutureWarning: The default value of `n_init` will change from 10 to 'auto' in 1.4. Set the value of `n_init` explicitly to suppress the warning\n",
      "  super()._check_params_vs_input(X, default_n_init=10)\n"
     ]
    },
    {
     "data": {
      "text/html": [
       "<style>#sk-container-id-1 {color: black;}#sk-container-id-1 pre{padding: 0;}#sk-container-id-1 div.sk-toggleable {background-color: white;}#sk-container-id-1 label.sk-toggleable__label {cursor: pointer;display: block;width: 100%;margin-bottom: 0;padding: 0.3em;box-sizing: border-box;text-align: center;}#sk-container-id-1 label.sk-toggleable__label-arrow:before {content: \"▸\";float: left;margin-right: 0.25em;color: #696969;}#sk-container-id-1 label.sk-toggleable__label-arrow:hover:before {color: black;}#sk-container-id-1 div.sk-estimator:hover label.sk-toggleable__label-arrow:before {color: black;}#sk-container-id-1 div.sk-toggleable__content {max-height: 0;max-width: 0;overflow: hidden;text-align: left;background-color: #f0f8ff;}#sk-container-id-1 div.sk-toggleable__content pre {margin: 0.2em;color: black;border-radius: 0.25em;background-color: #f0f8ff;}#sk-container-id-1 input.sk-toggleable__control:checked~div.sk-toggleable__content {max-height: 200px;max-width: 100%;overflow: auto;}#sk-container-id-1 input.sk-toggleable__control:checked~label.sk-toggleable__label-arrow:before {content: \"▾\";}#sk-container-id-1 div.sk-estimator input.sk-toggleable__control:checked~label.sk-toggleable__label {background-color: #d4ebff;}#sk-container-id-1 div.sk-label input.sk-toggleable__control:checked~label.sk-toggleable__label {background-color: #d4ebff;}#sk-container-id-1 input.sk-hidden--visually {border: 0;clip: rect(1px 1px 1px 1px);clip: rect(1px, 1px, 1px, 1px);height: 1px;margin: -1px;overflow: hidden;padding: 0;position: absolute;width: 1px;}#sk-container-id-1 div.sk-estimator {font-family: monospace;background-color: #f0f8ff;border: 1px dotted black;border-radius: 0.25em;box-sizing: border-box;margin-bottom: 0.5em;}#sk-container-id-1 div.sk-estimator:hover {background-color: #d4ebff;}#sk-container-id-1 div.sk-parallel-item::after {content: \"\";width: 100%;border-bottom: 1px solid gray;flex-grow: 1;}#sk-container-id-1 div.sk-label:hover label.sk-toggleable__label {background-color: #d4ebff;}#sk-container-id-1 div.sk-serial::before {content: \"\";position: absolute;border-left: 1px solid gray;box-sizing: border-box;top: 0;bottom: 0;left: 50%;z-index: 0;}#sk-container-id-1 div.sk-serial {display: flex;flex-direction: column;align-items: center;background-color: white;padding-right: 0.2em;padding-left: 0.2em;position: relative;}#sk-container-id-1 div.sk-item {position: relative;z-index: 1;}#sk-container-id-1 div.sk-parallel {display: flex;align-items: stretch;justify-content: center;background-color: white;position: relative;}#sk-container-id-1 div.sk-item::before, #sk-container-id-1 div.sk-parallel-item::before {content: \"\";position: absolute;border-left: 1px solid gray;box-sizing: border-box;top: 0;bottom: 0;left: 50%;z-index: -1;}#sk-container-id-1 div.sk-parallel-item {display: flex;flex-direction: column;z-index: 1;position: relative;background-color: white;}#sk-container-id-1 div.sk-parallel-item:first-child::after {align-self: flex-end;width: 50%;}#sk-container-id-1 div.sk-parallel-item:last-child::after {align-self: flex-start;width: 50%;}#sk-container-id-1 div.sk-parallel-item:only-child::after {width: 0;}#sk-container-id-1 div.sk-dashed-wrapped {border: 1px dashed gray;margin: 0 0.4em 0.5em 0.4em;box-sizing: border-box;padding-bottom: 0.4em;background-color: white;}#sk-container-id-1 div.sk-label label {font-family: monospace;font-weight: bold;display: inline-block;line-height: 1.2em;}#sk-container-id-1 div.sk-label-container {text-align: center;}#sk-container-id-1 div.sk-container {/* jupyter's `normalize.less` sets `[hidden] { display: none; }` but bootstrap.min.css set `[hidden] { display: none !important; }` so we also need the `!important` here to be able to override the default hidden behavior on the sphinx rendered scikit-learn.org. See: https://github.com/scikit-learn/scikit-learn/issues/21755 */display: inline-block !important;position: relative;}#sk-container-id-1 div.sk-text-repr-fallback {display: none;}</style><div id=\"sk-container-id-1\" class=\"sk-top-container\"><div class=\"sk-text-repr-fallback\"><pre>KMeans(n_clusters=100, random_state=123)</pre><b>In a Jupyter environment, please rerun this cell to show the HTML representation or trust the notebook. <br />On GitHub, the HTML representation is unable to render, please try loading this page with nbviewer.org.</b></div><div class=\"sk-container\" hidden><div class=\"sk-item\"><div class=\"sk-estimator sk-toggleable\"><input class=\"sk-toggleable__control sk-hidden--visually\" id=\"sk-estimator-id-1\" type=\"checkbox\" checked><label for=\"sk-estimator-id-1\" class=\"sk-toggleable__label sk-toggleable__label-arrow\">KMeans</label><div class=\"sk-toggleable__content\"><pre>KMeans(n_clusters=100, random_state=123)</pre></div></div></div></div></div>"
      ],
      "text/plain": [
       "KMeans(n_clusters=100, random_state=123)"
      ]
     },
     "execution_count": 1,
     "metadata": {},
     "output_type": "execute_result"
    }
   ],
   "source": [
    "import pandas as pd\n",
    "import numpy as np\n",
    "import torch\n",
    "\n",
    "from sklearn.cluster import KMeans\n",
    "\n",
    "df = pd.read_csv('Data/000/csv/000.csv')\n",
    "df.head(1)\n",
    "df_temp = df[['latitude', 'longitude']].copy()\n",
    "\n",
    "model = KMeans(n_clusters=100, random_state=123)\n",
    "model.fit(df_temp)\n"
   ]
  },
  {
   "cell_type": "code",
   "execution_count": 14,
   "metadata": {},
   "outputs": [
    {
     "data": {
      "text/plain": [
       "31    23021\n",
       "12    22060\n",
       "72    14927\n",
       "58    14561\n",
       "66    11336\n",
       "      ...  \n",
       "99      111\n",
       "29      101\n",
       "43       94\n",
       "91       92\n",
       "96       78\n",
       "Name: label, Length: 100, dtype: int64"
      ]
     },
     "execution_count": 14,
     "metadata": {},
     "output_type": "execute_result"
    }
   ],
   "source": [
    "df_temp['label'] = model.labels_\n",
    "df_temp['label'].value_counts()"
   ]
  }
 ],
 "metadata": {
  "kernelspec": {
   "display_name": "base",
   "language": "python",
   "name": "python3"
  },
  "language_info": {
   "codemirror_mode": {
    "name": "ipython",
    "version": 3
   },
   "file_extension": ".py",
   "mimetype": "text/x-python",
   "name": "python",
   "nbconvert_exporter": "python",
   "pygments_lexer": "ipython3",
   "version": "3.11.4"
  }
 },
 "nbformat": 4,
 "nbformat_minor": 2
}
